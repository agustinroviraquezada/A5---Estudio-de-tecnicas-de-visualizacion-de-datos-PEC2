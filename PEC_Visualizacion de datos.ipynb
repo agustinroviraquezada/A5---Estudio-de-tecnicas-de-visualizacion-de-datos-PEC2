{
 "cells": [
  {
   "cell_type": "code",
   "execution_count": 1,
   "id": "2e7f6691",
   "metadata": {},
   "outputs": [],
   "source": [
    "import pandas as pd\n",
    "import matplotlib as plt\n",
    "import requests\n",
    "import io\n",
    "from pyaxis import pyaxis\n",
    "import urllib.request\n",
    "import csv\n",
    "import urllib3\n",
    "import numpy as np\n",
    "import re\n",
    "import altair as alt\n",
    "from vega_datasets import data\n",
    "from pandas.api.types import CategoricalDtype\n",
    "from plotnine import *\n",
    "from plotnine.data import mpg\n",
    "import emoji\n",
    "import altair_viewer\n",
    "from altair_saver import save\n",
    "import ssl\n",
    "import plotly.graph_objects as go"
   ]
  },
  {
   "cell_type": "code",
   "execution_count": 6,
   "id": "c39b50d2",
   "metadata": {},
   "outputs": [],
   "source": [
    "#Descargar archivos\n",
    "\n",
    "def DownloadDatasets():\n",
    "  \n",
    "    d1=\"https://estadisticas.mecd.gob.es/EducaJaxiPx/files/_px/es/xlsx/Universitaria/Alumnado/EEU_2022/GradoCiclo/NuevoIngreso/l0/3_1_NI_Sex_Edad(1)_Rama_Univ.px\"\n",
    "    urllib.request.urlretrieve(d1, \"Datos_1.xlsx\")\n",
    "    df_ds1=pd.read_excel('Datos_1.xlsx',header=[6,7],skiprows = range(1391, 1398))\n",
    "    \n",
    "    ssl._create_default_https_context = ssl._create_unverified_context\n",
    "    d2=\"https://www.ine.es/jaxiT3/files/t/xlsx/24885.xlsx\"\n",
    "    urllib.request.urlretrieve(d2, \"Datos_2.xlsx\")\n",
    "    df_ds2=pd.read_excel('Datos_2.xlsx',header=[6,7],skiprows = range(2136, 2180))\n",
    "    return df_ds1,df_ds2\n",
    "\n",
    "def cleandf(df):\n",
    "    \n",
    "    #Clean index\n",
    "    df.iloc[:,0] = df.iloc[:,0].apply(lambda x: re.sub(\"^\\s+|\\s+$\", \"\", x))\n",
    "    df.drop(df[df.iloc[:,0] ==\"Todas las universidades\"].index, inplace=True)\n",
    "    df.drop(df[df.iloc[:,0] ==\"Total\"].index, inplace=True)\n",
    "    df.drop(df[df.iloc[:,0] ==\"Universidades Públicas\"].index, inplace=True)\n",
    "    df.drop(df[df.iloc[:,0] ==\"Universidades Públicas Presenciales\"].index, inplace=True)\n",
    "    df.drop(df[df.iloc[:,0] ==\"Universidades Públicas No Presenciales\"].index, inplace=True)\n",
    "    df.drop(df[df.iloc[:,0] ==\"Universidades Privadas\"].index, inplace=True)\n",
    "    df.drop(df[df.iloc[:,0] ==\" Universidades Privadas Presenciales\"].index, inplace=True)\n",
    "    df.drop(df[df.iloc[:,0] ==\"Universidades Privadas No Presenciales\"].index, inplace=True)\n",
    "    \n",
    "    #Separete by total\n",
    "    Uidx=df[df.iloc[:,0]==\"Ambos sexos\"].index[0]\n",
    "    Hidx=df[df.iloc[:,0]==\"Hombres\"].index[0]\n",
    "    Midx=df[df.iloc[:,0]==\"Mujeres\"].index[0]\n",
    "    ancla=df[df.iloc[:,0]==\"De 18 a 21 años\"].index\n",
    "    \n",
    "    dfU=df.truncate(before=Uidx+1, after=ancla[0]-1)\n",
    "    dfH=df.truncate(before=Hidx+1, after=ancla[1]-1)\n",
    "    dfM=df.truncate(before=Midx+1,after=ancla[2]-1)\n",
    "    \n",
    "    return  dfU,dfM,dfH\n",
    "\n",
    "def Ex1Barplot(dfU):\n",
    "    Alumnos=dfU[[\"Ciencias de la Salud\",\"Ingeniería y Arquitectura\",\"Ciencias\"]].sum()\n",
    "    dfBarChar=pd.DataFrame({'Alumnos':Alumnos})\n",
    "    dfBarChar.reset_index(level=[0,1],inplace=True)\n",
    "    dfBarChar.columns = ['Area', 'year', 'student']    \n",
    "    \n",
    "    #Data Transformation\n",
    "    map_year={\"2015-2016\":\"2015/16\",\"2016-2017\":\"2016/17\",\"2017-2018\":\"2017/18\",\"2018-2019\":\"2018/19\",\"2019-2020\":\"2019/20\",\"2020-2021\":\"2020/21\",\"2021-2022\":\"2021/22\"}\n",
    "    dfBarChar=dfBarChar.replace({\"year\": map_year})\n",
    "    \n",
    "    map_Area={\"Ciencias de la Salud\":\"Salud\",\"Ingeniería y Arquitectura\":\"Ingeniería/Arquitectura\",\"Ciencias\":\"Ciencias\"}\n",
    "    dfBarChar=dfBarChar.replace({\"Area\": map_Area})\n",
    "    \n",
    "    #Numbers\n",
    "    dfBarChar['student'] = dfBarChar['student'].apply(lambda x:round(x/1000, 2))\n",
    "    \n",
    "    #Plots\n",
    "    dodge_text = position_dodge(width=1)                              # new\n",
    "    ccolor = '#555555'\n",
    "\n",
    "    barplotEx1=(ggplot(dfBarChar, aes(x='year', y='student', fill='Area'))\n",
    "     +geom_col(stat='identity', position='dodge',show_legend=True)\n",
    "     +geom_text(aes(label='student'),position=dodge_text,size=8, va='bottom')\n",
    "     + theme(panel_background=element_rect(fill='white'),               # new\n",
    "             axis_title_y=element_blank(),\n",
    "             axis_line_x=element_line(color='black'),\n",
    "             axis_line_y=element_blank(),\n",
    "             axis_text_y=element_blank(),\n",
    "             axis_text_x=element_text(color=ccolor,angle=45,weight='bold'),\n",
    "             axis_ticks_major_y=element_blank(),\n",
    "             panel_grid=element_blank(),\n",
    "             panel_border=element_blank(),\n",
    "             figure_size=(10, 6),\n",
    "             aspect_ratio=1)\n",
    "     + labs( x=\"Año Academico\",\n",
    "             title=\"Nuevas incorporaciones/año a grados cientifico/tecnico en España (10^3)\")\n",
    "    )\n",
    "    \n",
    "    print(barplotEx1)\n",
    "    barplotEx1.save(filename = 'BarplotEx1.svg', width=15, height=10, dpi=1000)\n",
    "    \n",
    "    return dfBarChar\n",
    "\n",
    "def Ex2Isotype(dfM,dfH,area):\n",
    "\n",
    "    def pross(dfi,area,sexo):\n",
    "        dfiSum=dfi[area].sum()\n",
    "        d=pd.DataFrame({'Alumnos':dfiSum})\n",
    "        d.reset_index(level=0,inplace=True)\n",
    "        d.loc[:,\"Sex\"]=sexo\n",
    "        d.columns = ['Year', 'Student', 'Sex']\n",
    "        return d\n",
    "    \n",
    "    dfMclean=pross(dfM,area,\"Women\")\n",
    "    dfHclean=pross(dfH,area,\"Men\")\n",
    "    dfFinal=pd.concat([dfMclean,dfHclean])\n",
    "    \n",
    "    #Limpieza\n",
    "    map_year={\"2015-2016\":\"2015/16\",\"2016-2017\":\"2016/17\",\"2017-2018\":\"2017/18\",\"2018-2019\":\"2018/19\",\"2019-2020\":\"2019/20\",\"2020-2021\":\"2020/21\",\"2021-2022\":\"2021/22\"}\n",
    "    dfFinal=dfFinal.replace({\"Year\": map_year})\n",
    "    dfFinal=dfFinal[dfFinal[\"Year\"].isin([\"2015/16\",\"2021/22\"])].reset_index(drop=True)\n",
    "    dfFinal.loc[dfFinal['Year'] == \"2015/16\",\"Student\"]=(dfFinal.loc[dfFinal['Year'] == \"2015/16\",\"Student\"]*100)/dfFinal.loc[dfFinal['Year'] == \"2015/16\", 'Student'].sum()\n",
    "    dfFinal.loc[dfFinal['Year'] == \"2021/22\",\"Student\"]=(dfFinal.loc[dfFinal['Year'] == \"2021/22\",\"Student\"]*100)/dfFinal.loc[dfFinal['Year'] == \"2021/22\", 'Student'].sum()\n",
    "    dfFinal['StudentPerc']=dfFinal['Student'].apply(lambda x: round(x/10))\n",
    "    dfFinal=dfFinal.loc[dfFinal.index.repeat(dfFinal.StudentPerc)].drop(\"StudentPerc\",axis = 1)\n",
    "\n",
    "    \n",
    "    chart=alt.Chart(dfFinal).mark_text(size=45, baseline='middle').encode(\n",
    "    alt.X('x:O',axis=alt.Axis(title='De cada 10 nuevos ingresados')),\n",
    "    alt.Y('Sex:O',axis=None),\n",
    "    alt.Row('Year:N', header=alt.Header(title='Estudiantes de ingenieria 2015 vs 2022')),\n",
    "    alt.Text('emoji:N')\n",
    "    ).transform_calculate(\n",
    "        emoji=\"{'Women': '🧍‍♀️', 'Men': '🧍'}[datum.Sex]\"\n",
    "    ).transform_window(\n",
    "        x='rank()',\n",
    "        groupby=['Year', 'Sex']\n",
    "    ).properties(width=550, height=140)\n",
    "    \n",
    "    return dfFinal,chart\n",
    "\n",
    "def WaterFallEx3(df_ds2):\n",
    "    df_ds2.iloc[:,0]=df_ds2.iloc[:,0].apply(lambda x:re.sub(\"\\d+\", \"\", x)).apply(lambda x: re.sub(\"^\\s+|\\s+$\", \"\", x))\n",
    "    idxGasol=df_ds2[df_ds2.iloc[:,0]==\"Gasolina\"].index[0]\n",
    "    Gasolina=df_ds2.truncate(before=idxGasol+3, after=idxGasol+3)[\"Gasto medio por hogar\"].transpose().reset_index()\n",
    "    Gasolina.columns = ['Year', 'Spent']\n",
    "    Gasolina=Gasolina.iloc[::-1].reset_index(drop=True)\n",
    "    Gasolina['Spent_dif'] = Gasolina['Spent'].diff()\n",
    "    Gasolina.loc[0,'Spent_dif']=Gasolina.loc[0,'Spent']\n",
    "    Gasolina.loc[len(Gasolina)-1,'Spent_dif']=Gasolina.loc[len(Gasolina)-1,'Spent']\n",
    "    Gasolina[\"Mesurements\"]=\"relative\"\n",
    "    Gasolina.loc[len(Gasolina)-1,'Mesurements']=\"total\"\n",
    "    \n",
    "    \n",
    "    #plot\n",
    "    fig = go.Figure(go.Waterfall(\n",
    "    name = \"20\", orientation = \"v\",\n",
    "    measure = Gasolina['Mesurements'].tolist(),\n",
    "    x = Gasolina['Year'].tolist(),\n",
    "    textposition = \"outside\",\n",
    "    text = [round(item) for item in Gasolina['Spent_dif'].tolist()], \n",
    "    y = Gasolina['Spent_dif'].tolist(),\n",
    "    connector = {\"line\":{\"color\":\"rgb(63, 63, 63)\"}},\n",
    "    ))\n",
    "\n",
    "    fig.update_layout(\n",
    "            title = \"Evolucion anual del gasto medio por hogar para la Gasolina\",\n",
    "            showlegend = False,\n",
    "            title_x=0.5\n",
    "    )\n",
    "    fig.update_xaxes(minor=dict(showgrid=True),tickangle=45)\n",
    "    fig.update_yaxes(minor=dict(showgrid=True))\n",
    "    fig.write_image(\"WaterFallEx3.svg\")\n",
    "\n",
    "    fig.show()\n",
    "\n",
    "    \n",
    "    return Gasolina"
   ]
  },
  {
   "cell_type": "code",
   "execution_count": 8,
   "id": "f9d2a96a",
   "metadata": {},
   "outputs": [
    {
     "name": "stderr",
     "output_type": "stream",
     "text": [
      "C:\\Users\\agust\\.conda\\envs\\Proyects\\lib\\site-packages\\openpyxl\\styles\\stylesheet.py:226: UserWarning:\n",
      "\n",
      "Workbook contains no default style, apply openpyxl's default\n",
      "\n",
      "C:\\Users\\agust\\.conda\\envs\\Proyects\\lib\\site-packages\\openpyxl\\styles\\stylesheet.py:226: UserWarning:\n",
      "\n",
      "Workbook contains no default style, apply openpyxl's default\n",
      "\n"
     ]
    },
    {
     "data": {
      "image/png": "[encoded data removed]",
      "text/plain": [
       "<Figure size 1000x1006.49 with 1 Axes>"
      ]
     },
     "metadata": {},
     "output_type": "display_data"
    },
    {
     "name": "stdout",
     "output_type": "stream",
     "text": [
      "\n"
     ]
    },
    {
     "name": "stderr",
     "output_type": "stream",
     "text": [
      "C:\\Users\\agust\\.conda\\envs\\Proyects\\lib\\site-packages\\plotnine\\ggplot.py:718: PlotnineWarning:\n",
      "\n",
      "Saving 15 x 10 in image.\n",
      "\n",
      "C:\\Users\\agust\\.conda\\envs\\Proyects\\lib\\site-packages\\plotnine\\ggplot.py:719: PlotnineWarning:\n",
      "\n",
      "Filename: BarplotEx1.svg\n",
      "\n"
     ]
    },
    {
     "data": {
      "application/vnd.plotly.v1+json": {
       "config": {
        "plotlyServerURL": "https://plot.ly"
       },
       "data": [
        {
         "connector": {
          "line": {
           "color": "rgb(63, 63, 63)"
          }
         },
         "measure": [
          "relative",
          "relative",
          "relative",
          "relative",
          "relative",
          "relative",
          "relative",
          "relative",
          "relative",
          "relative",
          "relative",
          "relative",
          "relative",
          "relative",
          "relative",
          "total"
         ],
         "name": "20",
         "orientation": "v",
         "text": [
          "639",
          "8",
          "54",
          "-118",
          "38",
          "53",
          "2",
          "-28",
          "-26",
          "-54",
          "-45",
          "64",
          "9",
          "15",
          "-187",
          "546"
         ],
         "textposition": "outside",
         "type": "waterfall",
         "x": [
          "2006",
          "2007",
          "2008",
          "2009",
          "2010",
          "2011",
          "2012",
          "2013",
          "2014",
          "2015",
          "2016",
          "2017",
          "2018",
          "2019",
          "2020",
          "2021"
         ],
         "y": [
          639.09,
          8.370000000000005,
          53.77999999999997,
          -118.20000000000005,
          37.55000000000007,
          52.95999999999992,
          1.9200000000000728,
          -28.100000000000023,
          -25.74000000000001,
          -54.35000000000002,
          -45.15999999999997,
          63.879999999999995,
          9.330000000000041,
          14.909999999999968,
          -187.29000000000002,
          545.58
         ]
        }
       ],
       "layout": {
        "showlegend": false,
        "template": {
         "data": {
          "bar": [
           {
            "error_x": {
             "color": "#2a3f5f"
            },
            "error_y": {
             "color": "#2a3f5f"
            },
            "marker": {
             "line": {
              "color": "#E5ECF6",
              "width": 0.5
             },
             "pattern": {
              "fillmode": "overlay",
              "size": 10,
              "solidity": 0.2
             }
            },
            "type": "bar"
           }
          ],
          "barpolar": [
           {
            "marker": {
             "line": {
              "color": "#E5ECF6",
              "width": 0.5
             },
             "pattern": {
              "fillmode": "overlay",
              "size": 10,
              "solidity": 0.2
             }
            },
            "type": "barpolar"
           }
          ],
          "carpet": [
           {
            "aaxis": {
             "endlinecolor": "#2a3f5f",
             "gridcolor": "white",
             "linecolor": "white",
             "minorgridcolor": "white",
             "startlinecolor": "#2a3f5f"
            },
            "baxis": {
             "endlinecolor": "#2a3f5f",
             "gridcolor": "white",
             "linecolor": "white",
             "minorgridcolor": "white",
             "startlinecolor": "#2a3f5f"
            },
            "type": "carpet"
           }
          ],
          "choropleth": [
           {
            "colorbar": {
             "outlinewidth": 0,
             "ticks": ""
            },
            "type": "choropleth"
           }
          ],
          "contour": [
           {
            "colorbar": {
             "outlinewidth": 0,
             "ticks": ""
            },
            "colorscale": [
             [
              0,
              "#0d0887"
             ],
             [
              0.1111111111111111,
              "#46039f"
             ],
             [
              0.2222222222222222,
              "#7201a8"
             ],
             [
              0.3333333333333333,
              "#9c179e"
             ],
             [
              0.4444444444444444,
              "#bd3786"
             ],
             [
              0.5555555555555556,
              "#d8576b"
             ],
             [
              0.6666666666666666,
              "#ed7953"
             ],
             [
              0.7777777777777778,
              "#fb9f3a"
             ],
             [
              0.8888888888888888,
              "#fdca26"
             ],
             [
              1,
              "#f0f921"
             ]
            ],
            "type": "contour"
           }
          ],
          "contourcarpet": [
           {
            "colorbar": {
             "outlinewidth": 0,
             "ticks": ""
            },
            "type": "contourcarpet"
           }
          ],
          "heatmap": [
           {
            "colorbar": {
             "outlinewidth": 0,
             "ticks": ""
            },
            "colorscale": [
             [
              0,
              "#0d0887"
             ],
             [
              0.1111111111111111,
              "#46039f"
             ],
             [
              0.2222222222222222,
              "#7201a8"
             ],
             [
              0.3333333333333333,
              "#9c179e"
             ],
             [
              0.4444444444444444,
              "#bd3786"
             ],
             [
              0.5555555555555556,
              "#d8576b"
             ],
             [
              0.6666666666666666,
              "#ed7953"
             ],
             [
              0.7777777777777778,
              "#fb9f3a"
             ],
             [
              0.8888888888888888,
              "#fdca26"
             ],
             [
              1,
              "#f0f921"
             ]
            ],
            "type": "heatmap"
           }
          ],
          "heatmapgl": [
           {
            "colorbar": {
             "outlinewidth": 0,
             "ticks": ""
            },
            "colorscale": [
             [
              0,
              "#0d0887"
             ],
             [
              0.1111111111111111,
              "#46039f"
             ],
             [
              0.2222222222222222,
              "#7201a8"
             ],
             [
              0.3333333333333333,
              "#9c179e"
             ],
             [
              0.4444444444444444,
              "#bd3786"
             ],
             [
              0.5555555555555556,
              "#d8576b"
             ],
             [
              0.6666666666666666,
              "#ed7953"
             ],
             [
              0.7777777777777778,
              "#fb9f3a"
             ],
             [
              0.8888888888888888,
              "#fdca26"
             ],
             [
              1,
              "#f0f921"
             ]
            ],
            "type": "heatmapgl"
           }
          ],
          "histogram": [
           {
            "marker": {
             "pattern": {
              "fillmode": "overlay",
              "size": 10,
              "solidity": 0.2
             }
            },
            "type": "histogram"
           }
          ],
          "histogram2d": [
           {
            "colorbar": {
             "outlinewidth": 0,
             "ticks": ""
            },
            "colorscale": [
             [
              0,
              "#0d0887"
             ],
             [
              0.1111111111111111,
              "#46039f"
             ],
             [
              0.2222222222222222,
              "#7201a8"
             ],
             [
              0.3333333333333333,
              "#9c179e"
             ],
             [
              0.4444444444444444,
              "#bd3786"
             ],
             [
              0.5555555555555556,
              "#d8576b"
             ],
             [
              0.6666666666666666,
              "#ed7953"
             ],
             [
              0.7777777777777778,
              "#fb9f3a"
             ],
             [
              0.8888888888888888,
              "#fdca26"
             ],
             [
              1,
              "#f0f921"
             ]
            ],
            "type": "histogram2d"
           }
          ],
          "histogram2dcontour": [
           {
            "colorbar": {
             "outlinewidth": 0,
             "ticks": ""
            },
            "colorscale": [
             [
              0,
              "#0d0887"
             ],
             [
              0.1111111111111111,
              "#46039f"
             ],
             [
              0.2222222222222222,
              "#7201a8"
             ],
             [
              0.3333333333333333,
              "#9c179e"
             ],
             [
              0.4444444444444444,
              "#bd3786"
             ],
             [
              0.5555555555555556,
              "#d8576b"
             ],
             [
              0.6666666666666666,
              "#ed7953"
             ],
             [
              0.7777777777777778,
              "#fb9f3a"
             ],
             [
              0.8888888888888888,
              "#fdca26"
             ],
             [
              1,
              "#f0f921"
             ]
            ],
            "type": "histogram2dcontour"
           }
          ],
          "mesh3d": [
           {
            "colorbar": {
             "outlinewidth": 0,
             "ticks": ""
            },
            "type": "mesh3d"
           }
          ],
          "parcoords": [
           {
            "line": {
             "colorbar": {
              "outlinewidth": 0,
              "ticks": ""
             }
            },
            "type": "parcoords"
           }
          ],
          "pie": [
           {
            "automargin": true,
            "type": "pie"
           }
          ],
          "scatter": [
           {
            "fillpattern": {
             "fillmode": "overlay",
             "size": 10,
             "solidity": 0.2
            },
            "type": "scatter"
           }
          ],
          "scatter3d": [
           {
            "line": {
             "colorbar": {
              "outlinewidth": 0,
              "ticks": ""
             }
            },
            "marker": {
             "colorbar": {
              "outlinewidth": 0,
              "ticks": ""
             }
            },
            "type": "scatter3d"
           }
          ],
          "scattercarpet": [
           {
            "marker": {
             "colorbar": {
              "outlinewidth": 0,
              "ticks": ""
             }
            },
            "type": "scattercarpet"
           }
          ],
          "scattergeo": [
           {
            "marker": {
             "colorbar": {
              "outlinewidth": 0,
              "ticks": ""
             }
            },
            "type": "scattergeo"
           }
          ],
          "scattergl": [
           {
            "marker": {
             "colorbar": {
              "outlinewidth": 0,
              "ticks": ""
             }
            },
            "type": "scattergl"
           }
          ],
          "scattermapbox": [
           {
            "marker": {
             "colorbar": {
              "outlinewidth": 0,
              "ticks": ""
             }
            },
            "type": "scattermapbox"
           }
          ],
          "scatterpolar": [
           {
            "marker": {
             "colorbar": {
              "outlinewidth": 0,
              "ticks": ""
             }
            },
            "type": "scatterpolar"
           }
          ],
          "scatterpolargl": [
           {
            "marker": {
             "colorbar": {
              "outlinewidth": 0,
              "ticks": ""
             }
            },
            "type": "scatterpolargl"
           }
          ],
          "scatterternary": [
           {
            "marker": {
             "colorbar": {
              "outlinewidth": 0,
              "ticks": ""
             }
            },
            "type": "scatterternary"
           }
          ],
          "surface": [
           {
            "colorbar": {
             "outlinewidth": 0,
             "ticks": ""
            },
            "colorscale": [
             [
              0,
              "#0d0887"
             ],
             [
              0.1111111111111111,
              "#46039f"
             ],
             [
              0.2222222222222222,
              "#7201a8"
             ],
             [
              0.3333333333333333,
              "#9c179e"
             ],
             [
              0.4444444444444444,
              "#bd3786"
             ],
             [
              0.5555555555555556,
              "#d8576b"
             ],
             [
              0.6666666666666666,
              "#ed7953"
             ],
             [
              0.7777777777777778,
              "#fb9f3a"
             ],
             [
              0.8888888888888888,
              "#fdca26"
             ],
             [
              1,
              "#f0f921"
             ]
            ],
            "type": "surface"
           }
          ],
          "table": [
           {
            "cells": {
             "fill": {
              "color": "#EBF0F8"
             },
             "line": {
              "color": "white"
             }
            },
            "header": {
             "fill": {
              "color": "#C8D4E3"
             },
             "line": {
              "color": "white"
             }
            },
            "type": "table"
           }
          ]
         },
         "layout": {
          "annotationdefaults": {
           "arrowcolor": "#2a3f5f",
           "arrowhead": 0,
           "arrowwidth": 1
          },
          "autotypenumbers": "strict",
          "coloraxis": {
           "colorbar": {
            "outlinewidth": 0,
            "ticks": ""
           }
          },
          "colorscale": {
           "diverging": [
            [
             0,
             "#8e0152"
            ],
            [
             0.1,
             "#c51b7d"
            ],
            [
             0.2,
             "#de77ae"
            ],
            [
             0.3,
             "#f1b6da"
            ],
            [
             0.4,
             "#fde0ef"
            ],
            [
             0.5,
             "#f7f7f7"
            ],
            [
             0.6,
             "#e6f5d0"
            ],
            [
             0.7,
             "#b8e186"
            ],
            [
             0.8,
             "#7fbc41"
            ],
            [
             0.9,
             "#4d9221"
            ],
            [
             1,
             "#276419"
            ]
           ],
           "sequential": [
            [
             0,
             "#0d0887"
            ],
            [
             0.1111111111111111,
             "#46039f"
            ],
            [
             0.2222222222222222,
             "#7201a8"
            ],
            [
             0.3333333333333333,
             "#9c179e"
            ],
            [
             0.4444444444444444,
             "#bd3786"
            ],
            [
             0.5555555555555556,
             "#d8576b"
            ],
            [
             0.6666666666666666,
             "#ed7953"
            ],
            [
             0.7777777777777778,
             "#fb9f3a"
            ],
            [
             0.8888888888888888,
             "#fdca26"
            ],
            [
             1,
             "#f0f921"
            ]
           ],
           "sequentialminus": [
            [
             0,
             "#0d0887"
            ],
            [
             0.1111111111111111,
             "#46039f"
            ],
            [
             0.2222222222222222,
             "#7201a8"
            ],
            [
             0.3333333333333333,
             "#9c179e"
            ],
            [
             0.4444444444444444,
             "#bd3786"
            ],
            [
             0.5555555555555556,
             "#d8576b"
            ],
            [
             0.6666666666666666,
             "#ed7953"
            ],
            [
             0.7777777777777778,
             "#fb9f3a"
            ],
            [
             0.8888888888888888,
             "#fdca26"
            ],
            [
             1,
             "#f0f921"
            ]
           ]
          },
          "colorway": [
           "#636efa",
           "#EF553B",
           "#00cc96",
           "#ab63fa",
           "#FFA15A",
           "#19d3f3",
           "#FF6692",
           "#B6E880",
           "#FF97FF",
           "#FECB52"
          ],
          "font": {
           "color": "#2a3f5f"
          },
          "geo": {
           "bgcolor": "white",
           "lakecolor": "white",
           "landcolor": "#E5ECF6",
           "showlakes": true,
           "showland": true,
           "subunitcolor": "white"
          },
          "hoverlabel": {
           "align": "left"
          },
          "hovermode": "closest",
          "mapbox": {
           "style": "light"
          },
          "paper_bgcolor": "white",
          "plot_bgcolor": "#E5ECF6",
          "polar": {
           "angularaxis": {
            "gridcolor": "white",
            "linecolor": "white",
            "ticks": ""
           },
           "bgcolor": "#E5ECF6",
           "radialaxis": {
            "gridcolor": "white",
            "linecolor": "white",
            "ticks": ""
           }
          },
          "scene": {
           "xaxis": {
            "backgroundcolor": "#E5ECF6",
            "gridcolor": "white",
            "gridwidth": 2,
            "linecolor": "white",
            "showbackground": true,
            "ticks": "",
            "zerolinecolor": "white"
           },
           "yaxis": {
            "backgroundcolor": "#E5ECF6",
            "gridcolor": "white",
            "gridwidth": 2,
            "linecolor": "white",
            "showbackground": true,
            "ticks": "",
            "zerolinecolor": "white"
           },
           "zaxis": {
            "backgroundcolor": "#E5ECF6",
            "gridcolor": "white",
            "gridwidth": 2,
            "linecolor": "white",
            "showbackground": true,
            "ticks": "",
            "zerolinecolor": "white"
           }
          },
          "shapedefaults": {
           "line": {
            "color": "#2a3f5f"
           }
          },
          "ternary": {
           "aaxis": {
            "gridcolor": "white",
            "linecolor": "white",
            "ticks": ""
           },
           "baxis": {
            "gridcolor": "white",
            "linecolor": "white",
            "ticks": ""
           },
           "bgcolor": "#E5ECF6",
           "caxis": {
            "gridcolor": "white",
            "linecolor": "white",
            "ticks": ""
           }
          },
          "title": {
           "x": 0.05
          },
          "xaxis": {
           "automargin": true,
           "gridcolor": "white",
           "linecolor": "white",
           "ticks": "",
           "title": {
            "standoff": 15
           },
           "zerolinecolor": "white",
           "zerolinewidth": 2
          },
          "yaxis": {
           "automargin": true,
           "gridcolor": "white",
           "linecolor": "white",
           "ticks": "",
           "title": {
            "standoff": 15
           },
           "zerolinecolor": "white",
           "zerolinewidth": 2
          }
         }
        },
        "title": {
         "text": "Evolucion anual del gasto medio por hogar para la Gasolina",
         "x": 0.5
        },
        "xaxis": {
         "minor": {
          "showgrid": true
         },
         "tickangle": 45
        },
        "yaxis": {
         "minor": {
          "showgrid": true
         }
        }
       }
      },
      "text/html": [
       "<div>                            <div id=\"eca78515-8a1d-40b2-9c48-726fba07b390\" class=\"plotly-graph-div\" style=\"height:525px; width:100%;\"></div>            <script type=\"text/javascript\">                require([\"plotly\"], function(Plotly) {                    window.PLOTLYENV=window.PLOTLYENV || {};                                    if (document.getElementById(\"eca78515-8a1d-40b2-9c48-726fba07b390\")) {                    Plotly.newPlot(                        \"eca78515-8a1d-40b2-9c48-726fba07b390\",                        [{\"connector\":{\"line\":{\"color\":\"rgb(63, 63, 63)\"}},\"measure\":[\"relative\",\"relative\",\"relative\",\"relative\",\"relative\",\"relative\",\"relative\",\"relative\",\"relative\",\"relative\",\"relative\",\"relative\",\"relative\",\"relative\",\"relative\",\"total\"],\"name\":\"20\",\"orientation\":\"v\",\"text\":[\"639\",\"8\",\"54\",\"-118\",\"38\",\"53\",\"2\",\"-28\",\"-26\",\"-54\",\"-45\",\"64\",\"9\",\"15\",\"-187\",\"546\"],\"textposition\":\"outside\",\"x\":[\"2006\",\"2007\",\"2008\",\"2009\",\"2010\",\"2011\",\"2012\",\"2013\",\"2014\",\"2015\",\"2016\",\"2017\",\"2018\",\"2019\",\"2020\",\"2021\"],\"y\":[639.09,8.370000000000005,53.77999999999997,-118.20000000000005,37.55000000000007,52.95999999999992,1.9200000000000728,-28.100000000000023,-25.74000000000001,-54.35000000000002,-45.15999999999997,63.879999999999995,9.330000000000041,14.909999999999968,-187.29000000000002,545.58],\"type\":\"waterfall\"}],                        {\"template\":{\"data\":{\"histogram2dcontour\":[{\"type\":\"histogram2dcontour\",\"colorbar\":{\"outlinewidth\":0,\"ticks\":\"\"},\"colorscale\":[[0.0,\"#0d0887\"],[0.1111111111111111,\"#46039f\"],[0.2222222222222222,\"#7201a8\"],[0.3333333333333333,\"#9c179e\"],[0.4444444444444444,\"#bd3786\"],[0.5555555555555556,\"#d8576b\"],[0.6666666666666666,\"#ed7953\"],[0.7777777777777778,\"#fb9f3a\"],[0.8888888888888888,\"#fdca26\"],[1.0,\"#f0f921\"]]}],\"choropleth\":[{\"type\":\"choropleth\",\"colorbar\":{\"outlinewidth\":0,\"ticks\":\"\"}}],\"histogram2d\":[{\"type\":\"histogram2d\",\"colorbar\":{\"outlinewidth\":0,\"ticks\":\"\"},\"colorscale\":[[0.0,\"#0d0887\"],[0.1111111111111111,\"#46039f\"],[0.2222222222222222,\"#7201a8\"],[0.3333333333333333,\"#9c179e\"],[0.4444444444444444,\"#bd3786\"],[0.5555555555555556,\"#d8576b\"],[0.6666666666666666,\"#ed7953\"],[0.7777777777777778,\"#fb9f3a\"],[0.8888888888888888,\"#fdca26\"],[1.0,\"#f0f921\"]]}],\"heatmap\":[{\"type\":\"heatmap\",\"colorbar\":{\"outlinewidth\":0,\"ticks\":\"\"},\"colorscale\":[[0.0,\"#0d0887\"],[0.1111111111111111,\"#46039f\"],[0.2222222222222222,\"#7201a8\"],[0.3333333333333333,\"#9c179e\"],[0.4444444444444444,\"#bd3786\"],[0.5555555555555556,\"#d8576b\"],[0.6666666666666666,\"#ed7953\"],[0.7777777777777778,\"#fb9f3a\"],[0.8888888888888888,\"#fdca26\"],[1.0,\"#f0f921\"]]}],\"heatmapgl\":[{\"type\":\"heatmapgl\",\"colorbar\":{\"outlinewidth\":0,\"ticks\":\"\"},\"colorscale\":[[0.0,\"#0d0887\"],[0.1111111111111111,\"#46039f\"],[0.2222222222222222,\"#7201a8\"],[0.3333333333333333,\"#9c179e\"],[0.4444444444444444,\"#bd3786\"],[0.5555555555555556,\"#d8576b\"],[0.6666666666666666,\"#ed7953\"],[0.7777777777777778,\"#fb9f3a\"],[0.8888888888888888,\"#fdca26\"],[1.0,\"#f0f921\"]]}],\"contourcarpet\":[{\"type\":\"contourcarpet\",\"colorbar\":{\"outlinewidth\":0,\"ticks\":\"\"}}],\"contour\":[{\"type\":\"contour\",\"colorbar\":{\"outlinewidth\":0,\"ticks\":\"\"},\"colorscale\":[[0.0,\"#0d0887\"],[0.1111111111111111,\"#46039f\"],[0.2222222222222222,\"#7201a8\"],[0.3333333333333333,\"#9c179e\"],[0.4444444444444444,\"#bd3786\"],[0.5555555555555556,\"#d8576b\"],[0.6666666666666666,\"#ed7953\"],[0.7777777777777778,\"#fb9f3a\"],[0.8888888888888888,\"#fdca26\"],[1.0,\"#f0f921\"]]}],\"surface\":[{\"type\":\"surface\",\"colorbar\":{\"outlinewidth\":0,\"ticks\":\"\"},\"colorscale\":[[0.0,\"#0d0887\"],[0.1111111111111111,\"#46039f\"],[0.2222222222222222,\"#7201a8\"],[0.3333333333333333,\"#9c179e\"],[0.4444444444444444,\"#bd3786\"],[0.5555555555555556,\"#d8576b\"],[0.6666666666666666,\"#ed7953\"],[0.7777777777777778,\"#fb9f3a\"],[0.8888888888888888,\"#fdca26\"],[1.0,\"#f0f921\"]]}],\"mesh3d\":[{\"type\":\"mesh3d\",\"colorbar\":{\"outlinewidth\":0,\"ticks\":\"\"}}],\"scatter\":[{\"fillpattern\":{\"fillmode\":\"overlay\",\"size\":10,\"solidity\":0.2},\"type\":\"scatter\"}],\"parcoords\":[{\"type\":\"parcoords\",\"line\":{\"colorbar\":{\"outlinewidth\":0,\"ticks\":\"\"}}}],\"scatterpolargl\":[{\"type\":\"scatterpolargl\",\"marker\":{\"colorbar\":{\"outlinewidth\":0,\"ticks\":\"\"}}}],\"bar\":[{\"error_x\":{\"color\":\"#2a3f5f\"},\"error_y\":{\"color\":\"#2a3f5f\"},\"marker\":{\"line\":{\"color\":\"#E5ECF6\",\"width\":0.5},\"pattern\":{\"fillmode\":\"overlay\",\"size\":10,\"solidity\":0.2}},\"type\":\"bar\"}],\"scattergeo\":[{\"type\":\"scattergeo\",\"marker\":{\"colorbar\":{\"outlinewidth\":0,\"ticks\":\"\"}}}],\"scatterpolar\":[{\"type\":\"scatterpolar\",\"marker\":{\"colorbar\":{\"outlinewidth\":0,\"ticks\":\"\"}}}],\"histogram\":[{\"marker\":{\"pattern\":{\"fillmode\":\"overlay\",\"size\":10,\"solidity\":0.2}},\"type\":\"histogram\"}],\"scattergl\":[{\"type\":\"scattergl\",\"marker\":{\"colorbar\":{\"outlinewidth\":0,\"ticks\":\"\"}}}],\"scatter3d\":[{\"type\":\"scatter3d\",\"line\":{\"colorbar\":{\"outlinewidth\":0,\"ticks\":\"\"}},\"marker\":{\"colorbar\":{\"outlinewidth\":0,\"ticks\":\"\"}}}],\"scattermapbox\":[{\"type\":\"scattermapbox\",\"marker\":{\"colorbar\":{\"outlinewidth\":0,\"ticks\":\"\"}}}],\"scatterternary\":[{\"type\":\"scatterternary\",\"marker\":{\"colorbar\":{\"outlinewidth\":0,\"ticks\":\"\"}}}],\"scattercarpet\":[{\"type\":\"scattercarpet\",\"marker\":{\"colorbar\":{\"outlinewidth\":0,\"ticks\":\"\"}}}],\"carpet\":[{\"aaxis\":{\"endlinecolor\":\"#2a3f5f\",\"gridcolor\":\"white\",\"linecolor\":\"white\",\"minorgridcolor\":\"white\",\"startlinecolor\":\"#2a3f5f\"},\"baxis\":{\"endlinecolor\":\"#2a3f5f\",\"gridcolor\":\"white\",\"linecolor\":\"white\",\"minorgridcolor\":\"white\",\"startlinecolor\":\"#2a3f5f\"},\"type\":\"carpet\"}],\"table\":[{\"cells\":{\"fill\":{\"color\":\"#EBF0F8\"},\"line\":{\"color\":\"white\"}},\"header\":{\"fill\":{\"color\":\"#C8D4E3\"},\"line\":{\"color\":\"white\"}},\"type\":\"table\"}],\"barpolar\":[{\"marker\":{\"line\":{\"color\":\"#E5ECF6\",\"width\":0.5},\"pattern\":{\"fillmode\":\"overlay\",\"size\":10,\"solidity\":0.2}},\"type\":\"barpolar\"}],\"pie\":[{\"automargin\":true,\"type\":\"pie\"}]},\"layout\":{\"autotypenumbers\":\"strict\",\"colorway\":[\"#636efa\",\"#EF553B\",\"#00cc96\",\"#ab63fa\",\"#FFA15A\",\"#19d3f3\",\"#FF6692\",\"#B6E880\",\"#FF97FF\",\"#FECB52\"],\"font\":{\"color\":\"#2a3f5f\"},\"hovermode\":\"closest\",\"hoverlabel\":{\"align\":\"left\"},\"paper_bgcolor\":\"white\",\"plot_bgcolor\":\"#E5ECF6\",\"polar\":{\"bgcolor\":\"#E5ECF6\",\"angularaxis\":{\"gridcolor\":\"white\",\"linecolor\":\"white\",\"ticks\":\"\"},\"radialaxis\":{\"gridcolor\":\"white\",\"linecolor\":\"white\",\"ticks\":\"\"}},\"ternary\":{\"bgcolor\":\"#E5ECF6\",\"aaxis\":{\"gridcolor\":\"white\",\"linecolor\":\"white\",\"ticks\":\"\"},\"baxis\":{\"gridcolor\":\"white\",\"linecolor\":\"white\",\"ticks\":\"\"},\"caxis\":{\"gridcolor\":\"white\",\"linecolor\":\"white\",\"ticks\":\"\"}},\"coloraxis\":{\"colorbar\":{\"outlinewidth\":0,\"ticks\":\"\"}},\"colorscale\":{\"sequential\":[[0.0,\"#0d0887\"],[0.1111111111111111,\"#46039f\"],[0.2222222222222222,\"#7201a8\"],[0.3333333333333333,\"#9c179e\"],[0.4444444444444444,\"#bd3786\"],[0.5555555555555556,\"#d8576b\"],[0.6666666666666666,\"#ed7953\"],[0.7777777777777778,\"#fb9f3a\"],[0.8888888888888888,\"#fdca26\"],[1.0,\"#f0f921\"]],\"sequentialminus\":[[0.0,\"#0d0887\"],[0.1111111111111111,\"#46039f\"],[0.2222222222222222,\"#7201a8\"],[0.3333333333333333,\"#9c179e\"],[0.4444444444444444,\"#bd3786\"],[0.5555555555555556,\"#d8576b\"],[0.6666666666666666,\"#ed7953\"],[0.7777777777777778,\"#fb9f3a\"],[0.8888888888888888,\"#fdca26\"],[1.0,\"#f0f921\"]],\"diverging\":[[0,\"#8e0152\"],[0.1,\"#c51b7d\"],[0.2,\"#de77ae\"],[0.3,\"#f1b6da\"],[0.4,\"#fde0ef\"],[0.5,\"#f7f7f7\"],[0.6,\"#e6f5d0\"],[0.7,\"#b8e186\"],[0.8,\"#7fbc41\"],[0.9,\"#4d9221\"],[1,\"#276419\"]]},\"xaxis\":{\"gridcolor\":\"white\",\"linecolor\":\"white\",\"ticks\":\"\",\"title\":{\"standoff\":15},\"zerolinecolor\":\"white\",\"automargin\":true,\"zerolinewidth\":2},\"yaxis\":{\"gridcolor\":\"white\",\"linecolor\":\"white\",\"ticks\":\"\",\"title\":{\"standoff\":15},\"zerolinecolor\":\"white\",\"automargin\":true,\"zerolinewidth\":2},\"scene\":{\"xaxis\":{\"backgroundcolor\":\"#E5ECF6\",\"gridcolor\":\"white\",\"linecolor\":\"white\",\"showbackground\":true,\"ticks\":\"\",\"zerolinecolor\":\"white\",\"gridwidth\":2},\"yaxis\":{\"backgroundcolor\":\"#E5ECF6\",\"gridcolor\":\"white\",\"linecolor\":\"white\",\"showbackground\":true,\"ticks\":\"\",\"zerolinecolor\":\"white\",\"gridwidth\":2},\"zaxis\":{\"backgroundcolor\":\"#E5ECF6\",\"gridcolor\":\"white\",\"linecolor\":\"white\",\"showbackground\":true,\"ticks\":\"\",\"zerolinecolor\":\"white\",\"gridwidth\":2}},\"shapedefaults\":{\"line\":{\"color\":\"#2a3f5f\"}},\"annotationdefaults\":{\"arrowcolor\":\"#2a3f5f\",\"arrowhead\":0,\"arrowwidth\":1},\"geo\":{\"bgcolor\":\"white\",\"landcolor\":\"#E5ECF6\",\"subunitcolor\":\"white\",\"showland\":true,\"showlakes\":true,\"lakecolor\":\"white\"},\"title\":{\"x\":0.05},\"mapbox\":{\"style\":\"light\"}}},\"title\":{\"text\":\"Evolucion anual del gasto medio por hogar para la Gasolina\",\"x\":0.5},\"showlegend\":false,\"xaxis\":{\"minor\":{\"showgrid\":true},\"tickangle\":45},\"yaxis\":{\"minor\":{\"showgrid\":true}}},                        {\"responsive\": true}                    ).then(function(){\n",
       "                            \n",
       "var gd = document.getElementById('eca78515-8a1d-40b2-9c48-726fba07b390');\n",
       "var x = new MutationObserver(function (mutations, observer) {{\n",
       "        var display = window.getComputedStyle(gd).display;\n",
       "        if (!display || display === 'none') {{\n",
       "            console.log([gd, 'removed!']);\n",
       "            Plotly.purge(gd);\n",
       "            observer.disconnect();\n",
       "        }}\n",
       "}});\n",
       "\n",
       "// Listen for the removal of the full notebook cells\n",
       "var notebookContainer = gd.closest('#notebook-container');\n",
       "if (notebookContainer) {{\n",
       "    x.observe(notebookContainer, {childList: true});\n",
       "}}\n",
       "\n",
       "// Listen for the clearing of the current output cell\n",
       "var outputEl = gd.closest('.output');\n",
       "if (outputEl) {{\n",
       "    x.observe(outputEl, {childList: true});\n",
       "}}\n",
       "\n",
       "                        })                };                });            </script>        </div>"
      ]
     },
     "metadata": {},
     "output_type": "display_data"
    },
    {
     "data": {
      "text/html": [
       "\n",
       "<div id=\"altair-viz-eb5168c191934f42aba331c86328722f\"></div>\n",
       "<script type=\"text/javascript\">\n",
       "  var VEGA_DEBUG = (typeof VEGA_DEBUG == \"undefined\") ? {} : VEGA_DEBUG;\n",
       "  (function(spec, embedOpt){\n",
       "    let outputDiv = document.currentScript.previousElementSibling;\n",
       "    if (outputDiv.id !== \"altair-viz-eb5168c191934f42aba331c86328722f\") {\n",
       "      outputDiv = document.getElementById(\"altair-viz-eb5168c191934f42aba331c86328722f\");\n",
       "    }\n",
       "    const paths = {\n",
       "      \"vega\": \"https://cdn.jsdelivr.net/npm//vega@5?noext\",\n",
       "      \"vega-lib\": \"https://cdn.jsdelivr.net/npm//vega-lib?noext\",\n",
       "      \"vega-lite\": \"https://cdn.jsdelivr.net/npm//vega-lite@4.17.0?noext\",\n",
       "      \"vega-embed\": \"https://cdn.jsdelivr.net/npm//vega-embed@6?noext\",\n",
       "    };\n",
       "\n",
       "    function maybeLoadScript(lib, version) {\n",
       "      var key = `${lib.replace(\"-\", \"\")}_version`;\n",
       "      return (VEGA_DEBUG[key] == version) ?\n",
       "        Promise.resolve(paths[lib]) :\n",
       "        new Promise(function(resolve, reject) {\n",
       "          var s = document.createElement('script');\n",
       "          document.getElementsByTagName(\"head\")[0].appendChild(s);\n",
       "          s.async = true;\n",
       "          s.onload = () => {\n",
       "            VEGA_DEBUG[key] = version;\n",
       "            return resolve(paths[lib]);\n",
       "          };\n",
       "          s.onerror = () => reject(`Error loading script: ${paths[lib]}`);\n",
       "          s.src = paths[lib];\n",
       "        });\n",
       "    }\n",
       "\n",
       "    function showError(err) {\n",
       "      outputDiv.innerHTML = `<div class=\"error\" style=\"color:red;\">${err}</div>`;\n",
       "      throw err;\n",
       "    }\n",
       "\n",
       "    function displayChart(vegaEmbed) {\n",
       "      vegaEmbed(outputDiv, spec, embedOpt)\n",
       "        .catch(err => showError(`Javascript Error: ${err.message}<br>This usually means there's a typo in your chart specification. See the javascript console for the full traceback.`));\n",
       "    }\n",
       "\n",
       "    if(typeof define === \"function\" && define.amd) {\n",
       "      requirejs.config({paths});\n",
       "      require([\"vega-embed\"], displayChart, err => showError(`Error loading script: ${err.message}`));\n",
       "    } else {\n",
       "      maybeLoadScript(\"vega\", \"5\")\n",
       "        .then(() => maybeLoadScript(\"vega-lite\", \"4.17.0\"))\n",
       "        .then(() => maybeLoadScript(\"vega-embed\", \"6\"))\n",
       "        .catch(showError)\n",
       "        .then(() => displayChart(vegaEmbed));\n",
       "    }\n",
       "  })({\"config\": {\"view\": {\"continuousWidth\": 400, \"continuousHeight\": 300}}, \"data\": {\"name\": \"data-891180d56a7309c14cec5264c17a7b2b\"}, \"mark\": {\"type\": \"text\", \"baseline\": \"middle\", \"size\": 45}, \"encoding\": {\"row\": {\"field\": \"Year\", \"header\": {\"title\": \"Estudiantes de ingenieria 2015 vs 2022\"}, \"type\": \"nominal\"}, \"text\": {\"field\": \"emoji\", \"type\": \"nominal\"}, \"x\": {\"axis\": {\"title\": \"De cada 10 nuevos ingresados\"}, \"field\": \"x\", \"type\": \"ordinal\"}, \"y\": {\"axis\": null, \"field\": \"Sex\", \"type\": \"ordinal\"}}, \"height\": 140, \"transform\": [{\"calculate\": \"{'Women': '\\ud83e\\uddcd\\u200d\\u2640\\ufe0f', 'Men': '\\ud83e\\uddcd'}[datum.Sex]\", \"as\": \"emoji\"}, {\"window\": [{\"op\": \"rank\", \"field\": \"\", \"as\": \"x\"}], \"groupby\": [\"Year\", \"Sex\"]}], \"width\": 550, \"$schema\": \"https://vega.github.io/schema/vega-lite/v4.17.0.json\", \"datasets\": {\"data-891180d56a7309c14cec5264c17a7b2b\": [{\"Year\": \"2015/16\", \"Student\": 22.99518876647495, \"Sex\": \"Women\"}, {\"Year\": \"2015/16\", \"Student\": 22.99518876647495, \"Sex\": \"Women\"}, {\"Year\": \"2021/22\", \"Student\": 27.70185204847786, \"Sex\": \"Women\"}, {\"Year\": \"2021/22\", \"Student\": 27.70185204847786, \"Sex\": \"Women\"}, {\"Year\": \"2021/22\", \"Student\": 27.70185204847786, \"Sex\": \"Women\"}, {\"Year\": \"2015/16\", \"Student\": 77.00481123352505, \"Sex\": \"Men\"}, {\"Year\": \"2015/16\", \"Student\": 77.00481123352505, \"Sex\": \"Men\"}, {\"Year\": \"2015/16\", \"Student\": 77.00481123352505, \"Sex\": \"Men\"}, {\"Year\": \"2015/16\", \"Student\": 77.00481123352505, \"Sex\": \"Men\"}, {\"Year\": \"2015/16\", \"Student\": 77.00481123352505, \"Sex\": \"Men\"}, {\"Year\": \"2015/16\", \"Student\": 77.00481123352505, \"Sex\": \"Men\"}, {\"Year\": \"2015/16\", \"Student\": 77.00481123352505, \"Sex\": \"Men\"}, {\"Year\": \"2015/16\", \"Student\": 77.00481123352505, \"Sex\": \"Men\"}, {\"Year\": \"2021/22\", \"Student\": 72.29814795152214, \"Sex\": \"Men\"}, {\"Year\": \"2021/22\", \"Student\": 72.29814795152214, \"Sex\": \"Men\"}, {\"Year\": \"2021/22\", \"Student\": 72.29814795152214, \"Sex\": \"Men\"}, {\"Year\": \"2021/22\", \"Student\": 72.29814795152214, \"Sex\": \"Men\"}, {\"Year\": \"2021/22\", \"Student\": 72.29814795152214, \"Sex\": \"Men\"}, {\"Year\": \"2021/22\", \"Student\": 72.29814795152214, \"Sex\": \"Men\"}, {\"Year\": \"2021/22\", \"Student\": 72.29814795152214, \"Sex\": \"Men\"}]}}, {\"mode\": \"vega-lite\"});\n",
       "</script>"
      ],
      "text/plain": [
       "alt.Chart(...)"
      ]
     },
     "execution_count": 8,
     "metadata": {},
     "output_type": "execute_result"
    }
   ],
   "source": [
    "#Carga de datos\n",
    "df_ds1,df_ds2=DownloadDatasets()\n",
    "\n",
    "#Primer Ejercicio\n",
    "dfU,dfM,dfH=cleandf(df_ds1)\n",
    "dfBarChar=Ex1Barplot(dfU)\n",
    "\n",
    "#Tercera visualizacion\n",
    "Gasolina=WaterFallEx3(df_ds2)\n",
    "\n",
    "#Segunda Visualizacion\n",
    "dfFinal,chart=Ex2Isotype(dfM,dfH,\"Ingeniería y Arquitectura\")\n",
    "chart"
   ]
  },
  {
   "cell_type": "code",
   "execution_count": null,
   "id": "4118e123",
   "metadata": {},
   "outputs": [],
   "source": []
  }
 ],
 "metadata": {
  "kernelspec": {
   "display_name": "Python 3 (ipykernel)",
   "language": "python",
   "name": "python3"
  },
  "language_info": {
   "codemirror_mode": {
    "name": "ipython",
    "version": 3
   },
   "file_extension": ".py",
   "mimetype": "text/x-python",
   "name": "python",
   "nbconvert_exporter": "python",
   "pygments_lexer": "ipython3",
   "version": "3.10.4"
  }
 },
 "nbformat": 4,
 "nbformat_minor": 5
}
